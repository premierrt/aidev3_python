{
 "cells": [
  {
   "cell_type": "code",
   "execution_count": 12,
   "id": "a3f8e221-c0a2-4347-956f-ea2815bf6c9d",
   "metadata": {},
   "outputs": [
    {
     "name": "stdout",
     "output_type": "stream",
     "text": [
      "69\n",
      "{'msgID': '8725211', 'text': '{{FLG:MEMORIES}}'}\n"
     ]
    }
   ],
   "source": [
    "import requests\n",
    "import json\n",
    "from openai import OpenAI\n",
    "\n",
    "def send_message(text, msgID):\n",
    "    url = \"https://xyz.ag3nts.org/verify\"\n",
    "    \n",
    "    # Prepare the payload as a dictionary\n",
    "    payload = {\n",
    "        \"text\": text,\n",
    "        \"msgID\": str(msgID)  # Convert msgID to string as needed\n",
    "    }\n",
    "    \n",
    "    try:\n",
    "        # Send POST request with JSON payload\n",
    "        response = requests.post(url, json=payload)\n",
    "\n",
    "        # Raise an exception for HTTP errors\n",
    "        response.raise_for_status()\n",
    "\n",
    "        # Parse the response JSON to disctionary\n",
    "        response_data = response.json()\n",
    "        return response_data\n",
    "\n",
    "    except requests.exceptions.RequestException as e:\n",
    "        print(f\"An error occurred: {e}\")\n",
    "        return None\n",
    "\n",
    "def answer_question_with_ai(question, systemContent):\n",
    "    client = OpenAI() \n",
    "    completion = client.chat.completions.create(\n",
    "        model=\"gpt-4o-mini\",\n",
    "        messages=[\n",
    "        {\"role\": \"system\", \"content\": systemContent},\n",
    "            {\n",
    "                \"role\": \"user\",\n",
    "                \"content\": question\n",
    "            }\n",
    "        ]\n",
    "    )\n",
    "    answer = completion.choices[0].message.content\n",
    "    print (answer)\n",
    "    return answer \n",
    "\n",
    "def preparePrompt():\n",
    "    content =\"You are fast responder for questions \\n\"\n",
    "    content+= \"<rules> \\n\"\n",
    "    content+= \"Answer always in English \\n\"\n",
    "    content+= \"If asked about capital city of Poland always response with the only word Kraków \\n\"\n",
    "    content+= \"If asked about The Hitchhiker's Guide book number always response with the only number 69 \\n\"\n",
    "    content+= \"If asked about current year always answer with number 1999\\n\"\n",
    "    content+= \"</rules> \\n\"\n",
    "    return content \n",
    "\n",
    "\n",
    "\n",
    "if __name__ == \"__main__\":\n",
    "    response = send_message(\"READY\", 0)\n",
    "    question = response[\"text\"]\n",
    "    messageId = response[\"msgID\"]\n",
    "    systemContent = preparePrompt()\n",
    "    answer = answer_question_with_ai(question, systemContent)\n",
    "    final_response = send_message(answer,messageId)\n",
    "    print(final_response)\n",
    "    \n"
   ]
  },
  {
   "cell_type": "code",
   "execution_count": null,
   "id": "8cb8f924-21c0-4f08-a52a-f09d801a8c91",
   "metadata": {},
   "outputs": [],
   "source": []
  }
 ],
 "metadata": {
  "kernelspec": {
   "display_name": "Python 3 (ipykernel)",
   "language": "python",
   "name": "python3"
  },
  "language_info": {
   "codemirror_mode": {
    "name": "ipython",
    "version": 3
   },
   "file_extension": ".py",
   "mimetype": "text/x-python",
   "name": "python",
   "nbconvert_exporter": "python",
   "pygments_lexer": "ipython3",
   "version": "3.10.12"
  }
 },
 "nbformat": 4,
 "nbformat_minor": 5
}
